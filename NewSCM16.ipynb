{
  "nbformat": 4,
  "nbformat_minor": 0,
  "metadata": {
    "kernelspec": {
      "display_name": "Python 3",
      "language": "python",
      "name": "python3"
    },
    "language_info": {
      "codemirror_mode": {
        "name": "ipython",
        "version": 3
      },
      "file_extension": ".py",
      "mimetype": "text/x-python",
      "name": "python",
      "nbconvert_exporter": "python",
      "pygments_lexer": "ipython3",
      "version": "3.7.6"
    },
    "colab": {
      "name": "NewSCM16.ipynb",
      "provenance": [],
      "collapsed_sections": []
    }
  },
  "cells": [
    {
      "cell_type": "markdown",
      "metadata": {
        "id": "ReVwqvTuWE7V",
        "colab_type": "text"
      },
      "source": [
        "# 16. Регуляризация А.Н. Тихонова\n",
        "Система $(A^{\\rm T} A + \\alpha E)x = A^{\\rm T} b$ называется *регуляризованной* по отношению к системе\n",
        "$Ax = b$. Параметр $\\alpha$ называется *параметром регуляризации*. \n",
        "*Метод регуляризации* А.Н.Тихонова заключается в выборе\n",
        "последовательности $\\alpha_k \\to 0$ (например, геометрической прогрессии) \n",
        "и решении регуляризованных систем\n",
        "$(A^{\\rm T}A + \\alpha_k E)x = A^{\\rm T} b$  для конечного числа\n",
        "значений $\\alpha_k$, и выборе из всех полученных решений того, при котором\n",
        "норма невязки для исходной системы минимальна.\n",
        "\n",
        "# Написать функцию \n",
        "```\n",
        "    x0, discr0, alpha0, x, discr = tikhonov(A, b, alpha),\n",
        "```\n",
        "в которой `A` и `b` – матрица и левая часть исходной системы,\n",
        "`alpha` – вектор, содержащий набор параметров регуляризации,\n",
        "`x` – матрица, по столбцам которой записаны регуляризованные решения для соответсвующего значения \n",
        "параметра регуляризации, `discr` – вектор полученных таким образом невязок, `x0` – регуляризованное решение\n",
        "(из найденных) с минимальной нормой невязки, `discr0`, `alpha0` – соответствующие ему\n",
        "значения нормы невязки и параметра регуляризации.\n",
        "\n"
      ]
    },
    {
      "cell_type": "markdown",
      "metadata": {
        "id": "ejBJXMmreiY4",
        "colab_type": "text"
      },
      "source": [
        "# Решение\n",
        "Напишем функцию, которая будет принимать:\n",
        "\n",
        "*   A - матрица\n",
        "*   b - левая часть исходной системы\n",
        "*   alpha - вектор, содержащий набор параметров регуляризации \n",
        " \n",
        "и выдавать: \n",
        "\n",
        "\n",
        "*   x – матрица, по столбцам которой записаны регуляризованные решения для соответсвующего значения параметра регуляризации\n",
        "\n",
        "*   discr – вектор полученных таким образом невязок\n",
        "*   discr0, alpha0 – соответствующие ему значения нормы невязки и параметра регуляризации.\n",
        "\n",
        "\n",
        "\n",
        "\n",
        "\n",
        "\n",
        "\n",
        "\n",
        "\n",
        "\n",
        " "
      ]
    },
    {
      "cell_type": "markdown",
      "metadata": {
        "id": "X4u5Pw3dWE74",
        "colab_type": "text"
      },
      "source": [
        "## Начальные данные:\n"
      ]
    },
    {
      "cell_type": "code",
      "metadata": {
        "id": "WzWbWLQpWE8J",
        "colab_type": "code",
        "colab": {}
      },
      "source": [
        "import matplotlib.pyplot as plt\n",
        "import numpy as np\n",
        "from numpy import random\n",
        "from scipy import linalg\n",
        "%matplotlib inline\n",
        "import warnings\n",
        "warnings.filterwarnings('ignore')"
      ],
      "execution_count": 0,
      "outputs": []
    },
    {
      "cell_type": "markdown",
      "metadata": {
        "id": "YElYiwbDd3pE",
        "colab_type": "text"
      },
      "source": [
        "# Главная Функция"
      ]
    },
    {
      "cell_type": "code",
      "metadata": {
        "id": "WLVbjSoYWE9V",
        "colab_type": "code",
        "colab": {}
      },
      "source": [
        "def TIKHONOVREGULASATION (A, b, alpha):\n",
        "    x = []\n",
        "    discr = []\n",
        "    AstepenT = np.transpose(A)\n",
        "    for k in range(len(alpha)):\n",
        "        Xx = linalg.solve((AstepenT@A + alpha[k]), (AstepenT @ b))\n",
        "        x.append(Xx)\n",
        "        discr_c = linalg.norm(A@Xx - b)/linalg.norm(b)\n",
        "        discr.append(discr_c)\n",
        "    discr0 = discr[0]\n",
        "    _l = 0\n",
        "    for l in range(len(discr)):\n",
        "        if discr[l] < discr0:\n",
        "            _l = l\n",
        "            discr0 = discr[l]\n",
        "    alpha0 = alpha[_l]\n",
        "    x0 = x[_l]\n",
        "    return (x0, discr0, alpha0, x, discr)\n"
      ],
      "execution_count": 0,
      "outputs": []
    },
    {
      "cell_type": "markdown",
      "metadata": {
        "id": "gAPM1EAzXRMG",
        "colab_type": "text"
      },
      "source": [
        "**Функция графика:**"
      ]
    },
    {
      "cell_type": "code",
      "metadata": {
        "id": "TQtnLtT_on26",
        "colab_type": "code",
        "colab": {}
      },
      "source": [
        "def make_plt(_vector, _discr0, func = '.', title = '--- Порядок матрицы и Норма невязки - сравнение и зависимость ---'):\n",
        "  plt.figure(figsize=(10,5))    \n",
        "  plt.semilogy(_vector, _discr0,func)\n",
        "\n",
        "  plt.title(title)\n",
        "  plt.xlabel('Порядок матрицы')\n",
        "  plt.ylabel('Норма невязки')\n",
        "  plt.show()\n",
        "  #pass"
      ],
      "execution_count": 0,
      "outputs": []
    },
    {
      "cell_type": "markdown",
      "metadata": {
        "id": "gbu8p-veWE-0",
        "colab_type": "text"
      },
      "source": [
        "# Приступим к решению задачи регулизации \n",
        " \n",
        " Система $(A^{\\rm T} A + \\alpha E)x = A^{\\rm T} b$  называется регуляризованной по отношению к системе  $Ax = b$ . \n",
        "\n",
        "Начнём --- посмотрим на значения невязок у каждой системы"
      ]
    },
    {
      "cell_type": "code",
      "metadata": {
        "id": "0Y3kFmY-WE-4",
        "colab_type": "code",
        "colab": {}
      },
      "source": [
        "_discr0 = []\n",
        "_vector = np.arange(10, 450, 5)\n",
        "\n",
        "for i in _vector:\n",
        "    A = np.random.uniform(-100, 100, (i, i))\n",
        "    b = np.random.uniform(-100, 100, i)\n",
        "    x = linalg.solve(A, b)\n",
        "    dr = linalg.norm(A@x - b)/linalg.norm(b)\n",
        "    _discr0.append(dr)"
      ],
      "execution_count": 0,
      "outputs": []
    },
    {
      "cell_type": "code",
      "metadata": {
        "id": "htKE7nPUXm66",
        "colab_type": "code",
        "outputId": "5474f7e0-099b-4b9c-9b25-df4c6363bc82",
        "colab": {
          "base_uri": "https://localhost:8080/",
          "height": 350
        }
      },
      "source": [
        "make_plt(_vector, _discr0, '.r')"
      ],
      "execution_count": 0,
      "outputs": [
        {
          "output_type": "display_data",
          "data": {
            "image/png": "[encoded data removed]",
            "text/plain": [
              "<Figure size 720x360 with 1 Axes>"
            ]
          },
          "metadata": {
            "tags": [],
            "needs_background": "light"
          }
        }
      ]
    },
    {
      "cell_type": "markdown",
      "metadata": {
        "id": "s7JiDK9Wsf-D",
        "colab_type": "text"
      },
      "source": [
        "***Обычная система: значение невязки возрастает при увеличении порядка у матрицы***"
      ]
    },
    {
      "cell_type": "code",
      "metadata": {
        "id": "Ao1gEgulWFAI",
        "colab_type": "code",
        "colab": {}
      },
      "source": [
        "_vector = np.arange(10, 450, 5)\n",
        "_alpha0 = []\n",
        "_discr0 = []\n",
        "for i in _vector:\n",
        "    A = np.random.uniform(-100, 100, (i, i))\n",
        "    b = np.random.uniform(-100, 100, i)\n",
        "    alpha = np.linspace(0.0002 * i, 0.0002, i)\n",
        "    #t = tikhonov(A, b, alpha)\n",
        "    t = TIKHONOVREGULASATION(A, b, alpha)\n",
        "    _alpha0.append(t[2])\n",
        "    _discr0.append(t[1])"
      ],
      "execution_count": 0,
      "outputs": []
    },
    {
      "cell_type": "code",
      "metadata": {
        "id": "1gFelwIFXpM4",
        "colab_type": "code",
        "outputId": "24501afa-7e36-48b2-de27-21cf3e00b488",
        "colab": {
          "base_uri": "https://localhost:8080/",
          "height": 350
        }
      },
      "source": [
        "make_plt(_vector, _discr0, '.r')\n",
        "\n",
        "pass"
      ],
      "execution_count": 0,
      "outputs": [
        {
          "output_type": "display_data",
          "data": {
            "image/png": "[encoded data removed]",
            "text/plain": [
              "<Figure size 720x360 with 1 Axes>"
            ]
          },
          "metadata": {
            "tags": [],
            "needs_background": "light"
          }
        }
      ]
    },
    {
      "cell_type": "markdown",
      "metadata": {
        "id": "5HUa6rgMWFBY",
        "colab_type": "text"
      },
      "source": [
        "***Регуляризованная: у невязки значения получаются повыше, чем в в обычной системе***\n",
        "\n",
        "\n",
        "\n"
      ]
    },
    {
      "cell_type": "markdown",
      "metadata": {
        "id": "78QNIfIzWFBc",
        "colab_type": "text"
      },
      "source": [
        "# Перейдём к проверке плохообусловленных матриц из задания №8"
      ]
    },
    {
      "cell_type": "markdown",
      "metadata": {
        "id": "-JegLISF2DCE",
        "colab_type": "text"
      },
      "source": [
        "***Функция***"
      ]
    },
    {
      "cell_type": "code",
      "metadata": {
        "id": "Lp_POp1W18Vl",
        "colab_type": "code",
        "colab": {}
      },
      "source": [
        "def MatrixAwful(n):\n",
        "    Q = np.random.uniform(-100, 100, (n, n))\n",
        "    W = np.tril(Q)\n",
        "    Q = np.random.uniform(-100, 100, (n, n))\n",
        "    U = np.triu(Q)\n",
        "    return W@U"
      ],
      "execution_count": 0,
      "outputs": []
    },
    {
      "cell_type": "code",
      "metadata": {
        "scrolled": true,
        "id": "EV8nsLajWFBj",
        "colab_type": "code",
        "outputId": "74e777d7-fa77-44a6-bf33-d0d1a7012cc6",
        "colab": {
          "base_uri": "https://localhost:8080/",
          "height": 1000
        }
      },
      "source": [
        "__vector = np.arange(10, 450, 5)\n",
        "_discr0 = []\n",
        "for i in __vector:\n",
        "    #A = badMatrix(i)\n",
        "    A = MatrixAwful(i)\n",
        "    b = np.random.uniform(-100, 100, i)\n",
        "    x = linalg.solve(A, b)\n",
        "    dr = linalg.norm(A@x - b)/linalg.norm(b)\n",
        "    _discr0.append(dr)"
      ],
      "execution_count": 0,
      "outputs": [
        {
          "output_type": "stream",
          "text": [
            "/usr/local/lib/python3.6/dist-packages/ipykernel_launcher.py:7: LinAlgWarning: Ill-conditioned matrix (rcond=3.32821e-18): result may not be accurate.\n",
            "  import sys\n",
            "/usr/local/lib/python3.6/dist-packages/ipykernel_launcher.py:7: LinAlgWarning: Ill-conditioned matrix (rcond=3.6894e-19): result may not be accurate.\n",
            "  import sys\n",
            "/usr/local/lib/python3.6/dist-packages/ipykernel_launcher.py:7: LinAlgWarning: Ill-conditioned matrix (rcond=1.92449e-20): result may not be accurate.\n",
            "  import sys\n",
            "/usr/local/lib/python3.6/dist-packages/ipykernel_launcher.py:7: LinAlgWarning: Ill-conditioned matrix (rcond=2.54558e-19): result may not be accurate.\n",
            "  import sys\n",
            "/usr/local/lib/python3.6/dist-packages/ipykernel_launcher.py:7: LinAlgWarning: Ill-conditioned matrix (rcond=5.40975e-20): result may not be accurate.\n",
            "  import sys\n",
            "/usr/local/lib/python3.6/dist-packages/ipykernel_launcher.py:7: LinAlgWarning: Ill-conditioned matrix (rcond=1.81593e-19): result may not be accurate.\n",
            "  import sys\n",
            "/usr/local/lib/python3.6/dist-packages/ipykernel_launcher.py:7: LinAlgWarning: Ill-conditioned matrix (rcond=1.24481e-19): result may not be accurate.\n",
            "  import sys\n",
            "/usr/local/lib/python3.6/dist-packages/ipykernel_launcher.py:7: LinAlgWarning: Ill-conditioned matrix (rcond=1.83296e-22): result may not be accurate.\n",
            "  import sys\n",
            "/usr/local/lib/python3.6/dist-packages/ipykernel_launcher.py:7: LinAlgWarning: Ill-conditioned matrix (rcond=2.29273e-19): result may not be accurate.\n",
            "  import sys\n",
            "/usr/local/lib/python3.6/dist-packages/ipykernel_launcher.py:7: LinAlgWarning: Ill-conditioned matrix (rcond=2.27094e-20): result may not be accurate.\n",
            "  import sys\n",
            "/usr/local/lib/python3.6/dist-packages/ipykernel_launcher.py:7: LinAlgWarning: Ill-conditioned matrix (rcond=3.79218e-20): result may not be accurate.\n",
            "  import sys\n",
            "/usr/local/lib/python3.6/dist-packages/ipykernel_launcher.py:7: LinAlgWarning: Ill-conditioned matrix (rcond=8.68064e-20): result may not be accurate.\n",
            "  import sys\n",
            "/usr/local/lib/python3.6/dist-packages/ipykernel_launcher.py:7: LinAlgWarning: Ill-conditioned matrix (rcond=2.07739e-19): result may not be accurate.\n",
            "  import sys\n",
            "/usr/local/lib/python3.6/dist-packages/ipykernel_launcher.py:7: LinAlgWarning: Ill-conditioned matrix (rcond=1.29544e-20): result may not be accurate.\n",
            "  import sys\n",
            "/usr/local/lib/python3.6/dist-packages/ipykernel_launcher.py:7: LinAlgWarning: Ill-conditioned matrix (rcond=3.94948e-20): result may not be accurate.\n",
            "  import sys\n",
            "/usr/local/lib/python3.6/dist-packages/ipykernel_launcher.py:7: LinAlgWarning: Ill-conditioned matrix (rcond=5.00758e-20): result may not be accurate.\n",
            "  import sys\n",
            "/usr/local/lib/python3.6/dist-packages/ipykernel_launcher.py:7: LinAlgWarning: Ill-conditioned matrix (rcond=2.5833e-21): result may not be accurate.\n",
            "  import sys\n",
            "/usr/local/lib/python3.6/dist-packages/ipykernel_launcher.py:7: LinAlgWarning: Ill-conditioned matrix (rcond=4.99547e-21): result may not be accurate.\n",
            "  import sys\n",
            "/usr/local/lib/python3.6/dist-packages/ipykernel_launcher.py:7: LinAlgWarning: Ill-conditioned matrix (rcond=4.99323e-23): result may not be accurate.\n",
            "  import sys\n",
            "/usr/local/lib/python3.6/dist-packages/ipykernel_launcher.py:7: LinAlgWarning: Ill-conditioned matrix (rcond=1.76658e-20): result may not be accurate.\n",
            "  import sys\n",
            "/usr/local/lib/python3.6/dist-packages/ipykernel_launcher.py:7: LinAlgWarning: Ill-conditioned matrix (rcond=8.20948e-22): result may not be accurate.\n",
            "  import sys\n",
            "/usr/local/lib/python3.6/dist-packages/ipykernel_launcher.py:7: LinAlgWarning: Ill-conditioned matrix (rcond=1.92973e-20): result may not be accurate.\n",
            "  import sys\n",
            "/usr/local/lib/python3.6/dist-packages/ipykernel_launcher.py:7: LinAlgWarning: Ill-conditioned matrix (rcond=1.72417e-21): result may not be accurate.\n",
            "  import sys\n",
            "/usr/local/lib/python3.6/dist-packages/ipykernel_launcher.py:7: LinAlgWarning: Ill-conditioned matrix (rcond=5.35517e-21): result may not be accurate.\n",
            "  import sys\n",
            "/usr/local/lib/python3.6/dist-packages/ipykernel_launcher.py:7: LinAlgWarning: Ill-conditioned matrix (rcond=6.4663e-22): result may not be accurate.\n",
            "  import sys\n",
            "/usr/local/lib/python3.6/dist-packages/ipykernel_launcher.py:7: LinAlgWarning: Ill-conditioned matrix (rcond=1.51044e-21): result may not be accurate.\n",
            "  import sys\n",
            "/usr/local/lib/python3.6/dist-packages/ipykernel_launcher.py:7: LinAlgWarning: Ill-conditioned matrix (rcond=3.14694e-21): result may not be accurate.\n",
            "  import sys\n",
            "/usr/local/lib/python3.6/dist-packages/ipykernel_launcher.py:7: LinAlgWarning: Ill-conditioned matrix (rcond=2.69545e-22): result may not be accurate.\n",
            "  import sys\n",
            "/usr/local/lib/python3.6/dist-packages/ipykernel_launcher.py:7: LinAlgWarning: Ill-conditioned matrix (rcond=1.22754e-20): result may not be accurate.\n",
            "  import sys\n",
            "/usr/local/lib/python3.6/dist-packages/ipykernel_launcher.py:7: LinAlgWarning: Ill-conditioned matrix (rcond=1.30969e-21): result may not be accurate.\n",
            "  import sys\n",
            "/usr/local/lib/python3.6/dist-packages/ipykernel_launcher.py:7: LinAlgWarning: Ill-conditioned matrix (rcond=7.27132e-21): result may not be accurate.\n",
            "  import sys\n",
            "/usr/local/lib/python3.6/dist-packages/ipykernel_launcher.py:7: LinAlgWarning: Ill-conditioned matrix (rcond=7.33724e-22): result may not be accurate.\n",
            "  import sys\n",
            "/usr/local/lib/python3.6/dist-packages/ipykernel_launcher.py:7: LinAlgWarning: Ill-conditioned matrix (rcond=2.80604e-22): result may not be accurate.\n",
            "  import sys\n",
            "/usr/local/lib/python3.6/dist-packages/ipykernel_launcher.py:7: LinAlgWarning: Ill-conditioned matrix (rcond=1.24105e-21): result may not be accurate.\n",
            "  import sys\n",
            "/usr/local/lib/python3.6/dist-packages/ipykernel_launcher.py:7: LinAlgWarning: Ill-conditioned matrix (rcond=7.37737e-21): result may not be accurate.\n",
            "  import sys\n",
            "/usr/local/lib/python3.6/dist-packages/ipykernel_launcher.py:7: LinAlgWarning: Ill-conditioned matrix (rcond=6.92414e-21): result may not be accurate.\n",
            "  import sys\n",
            "/usr/local/lib/python3.6/dist-packages/ipykernel_launcher.py:7: LinAlgWarning: Ill-conditioned matrix (rcond=9.21415e-22): result may not be accurate.\n",
            "  import sys\n",
            "/usr/local/lib/python3.6/dist-packages/ipykernel_launcher.py:7: LinAlgWarning: Ill-conditioned matrix (rcond=2.15128e-20): result may not be accurate.\n",
            "  import sys\n",
            "/usr/local/lib/python3.6/dist-packages/ipykernel_launcher.py:7: LinAlgWarning: Ill-conditioned matrix (rcond=3.69287e-21): result may not be accurate.\n",
            "  import sys\n",
            "/usr/local/lib/python3.6/dist-packages/ipykernel_launcher.py:7: LinAlgWarning: Ill-conditioned matrix (rcond=7.72626e-21): result may not be accurate.\n",
            "  import sys\n",
            "/usr/local/lib/python3.6/dist-packages/ipykernel_launcher.py:7: LinAlgWarning: Ill-conditioned matrix (rcond=9.21527e-21): result may not be accurate.\n",
            "  import sys\n",
            "/usr/local/lib/python3.6/dist-packages/ipykernel_launcher.py:7: LinAlgWarning: Ill-conditioned matrix (rcond=3.16316e-20): result may not be accurate.\n",
            "  import sys\n",
            "/usr/local/lib/python3.6/dist-packages/ipykernel_launcher.py:7: LinAlgWarning: Ill-conditioned matrix (rcond=7.666e-21): result may not be accurate.\n",
            "  import sys\n",
            "/usr/local/lib/python3.6/dist-packages/ipykernel_launcher.py:7: LinAlgWarning: Ill-conditioned matrix (rcond=2.11257e-20): result may not be accurate.\n",
            "  import sys\n",
            "/usr/local/lib/python3.6/dist-packages/ipykernel_launcher.py:7: LinAlgWarning: Ill-conditioned matrix (rcond=2.77156e-21): result may not be accurate.\n",
            "  import sys\n",
            "/usr/local/lib/python3.6/dist-packages/ipykernel_launcher.py:7: LinAlgWarning: Ill-conditioned matrix (rcond=6.27399e-21): result may not be accurate.\n",
            "  import sys\n",
            "/usr/local/lib/python3.6/dist-packages/ipykernel_launcher.py:7: LinAlgWarning: Ill-conditioned matrix (rcond=3.26459e-21): result may not be accurate.\n",
            "  import sys\n",
            "/usr/local/lib/python3.6/dist-packages/ipykernel_launcher.py:7: LinAlgWarning: Ill-conditioned matrix (rcond=1.11041e-20): result may not be accurate.\n",
            "  import sys\n",
            "/usr/local/lib/python3.6/dist-packages/ipykernel_launcher.py:7: LinAlgWarning: Ill-conditioned matrix (rcond=1.5779e-21): result may not be accurate.\n",
            "  import sys\n",
            "/usr/local/lib/python3.6/dist-packages/ipykernel_launcher.py:7: LinAlgWarning: Ill-conditioned matrix (rcond=2.19728e-20): result may not be accurate.\n",
            "  import sys\n",
            "/usr/local/lib/python3.6/dist-packages/ipykernel_launcher.py:7: LinAlgWarning: Ill-conditioned matrix (rcond=2.38961e-21): result may not be accurate.\n",
            "  import sys\n",
            "/usr/local/lib/python3.6/dist-packages/ipykernel_launcher.py:7: LinAlgWarning: Ill-conditioned matrix (rcond=5.85145e-21): result may not be accurate.\n",
            "  import sys\n",
            "/usr/local/lib/python3.6/dist-packages/ipykernel_launcher.py:7: LinAlgWarning: Ill-conditioned matrix (rcond=7.52332e-21): result may not be accurate.\n",
            "  import sys\n",
            "/usr/local/lib/python3.6/dist-packages/ipykernel_launcher.py:7: LinAlgWarning: Ill-conditioned matrix (rcond=1.55291e-20): result may not be accurate.\n",
            "  import sys\n",
            "/usr/local/lib/python3.6/dist-packages/ipykernel_launcher.py:7: LinAlgWarning: Ill-conditioned matrix (rcond=9.10301e-22): result may not be accurate.\n",
            "  import sys\n",
            "/usr/local/lib/python3.6/dist-packages/ipykernel_launcher.py:7: LinAlgWarning: Ill-conditioned matrix (rcond=2.44571e-20): result may not be accurate.\n",
            "  import sys\n",
            "/usr/local/lib/python3.6/dist-packages/ipykernel_launcher.py:7: LinAlgWarning: Ill-conditioned matrix (rcond=1.41575e-20): result may not be accurate.\n",
            "  import sys\n",
            "/usr/local/lib/python3.6/dist-packages/ipykernel_launcher.py:7: LinAlgWarning: Ill-conditioned matrix (rcond=7.87941e-21): result may not be accurate.\n",
            "  import sys\n",
            "/usr/local/lib/python3.6/dist-packages/ipykernel_launcher.py:7: LinAlgWarning: Ill-conditioned matrix (rcond=9.91872e-22): result may not be accurate.\n",
            "  import sys\n",
            "/usr/local/lib/python3.6/dist-packages/ipykernel_launcher.py:7: LinAlgWarning: Ill-conditioned matrix (rcond=9.44001e-21): result may not be accurate.\n",
            "  import sys\n",
            "/usr/local/lib/python3.6/dist-packages/ipykernel_launcher.py:7: LinAlgWarning: Ill-conditioned matrix (rcond=2.29355e-20): result may not be accurate.\n",
            "  import sys\n",
            "/usr/local/lib/python3.6/dist-packages/ipykernel_launcher.py:7: LinAlgWarning: Ill-conditioned matrix (rcond=1.45783e-21): result may not be accurate.\n",
            "  import sys\n",
            "/usr/local/lib/python3.6/dist-packages/ipykernel_launcher.py:7: LinAlgWarning: Ill-conditioned matrix (rcond=2.78753e-22): result may not be accurate.\n",
            "  import sys\n",
            "/usr/local/lib/python3.6/dist-packages/ipykernel_launcher.py:7: LinAlgWarning: Ill-conditioned matrix (rcond=3.80451e-21): result may not be accurate.\n",
            "  import sys\n",
            "/usr/local/lib/python3.6/dist-packages/ipykernel_launcher.py:7: LinAlgWarning: Ill-conditioned matrix (rcond=1.66739e-21): result may not be accurate.\n",
            "  import sys\n",
            "/usr/local/lib/python3.6/dist-packages/ipykernel_launcher.py:7: LinAlgWarning: Ill-conditioned matrix (rcond=8.32075e-21): result may not be accurate.\n",
            "  import sys\n",
            "/usr/local/lib/python3.6/dist-packages/ipykernel_launcher.py:7: LinAlgWarning: Ill-conditioned matrix (rcond=3.95959e-22): result may not be accurate.\n",
            "  import sys\n",
            "/usr/local/lib/python3.6/dist-packages/ipykernel_launcher.py:7: LinAlgWarning: Ill-conditioned matrix (rcond=8.55717e-21): result may not be accurate.\n",
            "  import sys\n",
            "/usr/local/lib/python3.6/dist-packages/ipykernel_launcher.py:7: LinAlgWarning: Ill-conditioned matrix (rcond=2.0295e-21): result may not be accurate.\n",
            "  import sys\n",
            "/usr/local/lib/python3.6/dist-packages/ipykernel_launcher.py:7: LinAlgWarning: Ill-conditioned matrix (rcond=1.06901e-23): result may not be accurate.\n",
            "  import sys\n",
            "/usr/local/lib/python3.6/dist-packages/ipykernel_launcher.py:7: LinAlgWarning: Ill-conditioned matrix (rcond=4.5978e-22): result may not be accurate.\n",
            "  import sys\n",
            "/usr/local/lib/python3.6/dist-packages/ipykernel_launcher.py:7: LinAlgWarning: Ill-conditioned matrix (rcond=6.65339e-22): result may not be accurate.\n",
            "  import sys\n",
            "/usr/local/lib/python3.6/dist-packages/ipykernel_launcher.py:7: LinAlgWarning: Ill-conditioned matrix (rcond=4.67239e-22): result may not be accurate.\n",
            "  import sys\n",
            "/usr/local/lib/python3.6/dist-packages/ipykernel_launcher.py:7: LinAlgWarning: Ill-conditioned matrix (rcond=1.26164e-21): result may not be accurate.\n",
            "  import sys\n",
            "/usr/local/lib/python3.6/dist-packages/ipykernel_launcher.py:7: LinAlgWarning: Ill-conditioned matrix (rcond=4.72509e-22): result may not be accurate.\n",
            "  import sys\n",
            "/usr/local/lib/python3.6/dist-packages/ipykernel_launcher.py:7: LinAlgWarning: Ill-conditioned matrix (rcond=4.63073e-21): result may not be accurate.\n",
            "  import sys\n",
            "/usr/local/lib/python3.6/dist-packages/ipykernel_launcher.py:7: LinAlgWarning: Ill-conditioned matrix (rcond=2.45399e-22): result may not be accurate.\n",
            "  import sys\n",
            "/usr/local/lib/python3.6/dist-packages/ipykernel_launcher.py:7: LinAlgWarning: Ill-conditioned matrix (rcond=1.26705e-21): result may not be accurate.\n",
            "  import sys\n",
            "/usr/local/lib/python3.6/dist-packages/ipykernel_launcher.py:7: LinAlgWarning: Ill-conditioned matrix (rcond=3.46369e-22): result may not be accurate.\n",
            "  import sys\n",
            "/usr/local/lib/python3.6/dist-packages/ipykernel_launcher.py:7: LinAlgWarning: Ill-conditioned matrix (rcond=5.03956e-21): result may not be accurate.\n",
            "  import sys\n",
            "/usr/local/lib/python3.6/dist-packages/ipykernel_launcher.py:7: LinAlgWarning: Ill-conditioned matrix (rcond=8.82356e-22): result may not be accurate.\n",
            "  import sys\n",
            "/usr/local/lib/python3.6/dist-packages/ipykernel_launcher.py:7: LinAlgWarning: Ill-conditioned matrix (rcond=2.77622e-21): result may not be accurate.\n",
            "  import sys\n",
            "/usr/local/lib/python3.6/dist-packages/ipykernel_launcher.py:7: LinAlgWarning: Ill-conditioned matrix (rcond=1.38762e-21): result may not be accurate.\n",
            "  import sys\n",
            "/usr/local/lib/python3.6/dist-packages/ipykernel_launcher.py:7: LinAlgWarning: Ill-conditioned matrix (rcond=2.66495e-22): result may not be accurate.\n",
            "  import sys\n"
          ],
          "name": "stderr"
        }
      ]
    },
    {
      "cell_type": "code",
      "metadata": {
        "id": "P84sVeW1XuE2",
        "colab_type": "code",
        "outputId": "92e68600-4a5e-4d2f-9eaf-e254066b4022",
        "colab": {
          "base_uri": "https://localhost:8080/",
          "height": 350
        }
      },
      "source": [
        "make_plt(_vector, _discr0, '.g')\n",
        "\n",
        "pass"
      ],
      "execution_count": 0,
      "outputs": [
        {
          "output_type": "display_data",
          "data": {
            "image/png": "[encoded data removed]",
            "text/plain": [
              "<Figure size 720x360 with 1 Axes>"
            ]
          },
          "metadata": {
            "tags": [],
            "needs_background": "light"
          }
        }
      ]
    },
    {
      "cell_type": "markdown",
      "metadata": {
        "id": "ARI0n-avWFCf",
        "colab_type": "text"
      },
      "source": [
        "\n",
        "***Плохообусловленная матрица - обычная система: значение невязки повыше, чем у обычной матрицы. ***"
      ]
    },
    {
      "cell_type": "code",
      "metadata": {
        "id": "Wcsuu6hrjEcw",
        "colab_type": "code",
        "outputId": "3f01eb2d-34a2-41bb-a5f4-2b66987fcb5e",
        "colab": {
          "base_uri": "https://localhost:8080/",
          "height": 1000
        }
      },
      "source": [
        "_vector = np.arange(10, 450, 5)\n",
        "_n = 5 #число векторов alpha, считается долго, лучше брать немного чисел\n",
        "for n in range(1, _n):\n",
        "  _alpha0 = []\n",
        "  _discr0 = []\n",
        "  for i in _vector:\n",
        "    A = MatrixAwful(i)\n",
        "    b = np.random.uniform(-100, 100, i)\n",
        "    alpha = np.linspace(0.0002 * i * n, 0.0002  * n, i)\n",
        "    t = TIKHONOVREGULASATION(A, b, alpha)\n",
        "    _alpha0.append(t[2])\n",
        "    _discr0.append(t[1])\n",
        "  print('alpha = np.linspace(0.0002 * i * n, 0.0002  * n, i), n = ', n)\n",
        "  make_plt(_vector, _discr0, '.')\n",
        "  discr0.append(_discr0)"
      ],
      "execution_count": 0,
      "outputs": [
        {
          "output_type": "stream",
          "text": [
            "alpha = np.linspace(0.0002 * i * n, 0.0002  * n, i), n =  1\n"
          ],
          "name": "stdout"
        },
        {
          "output_type": "display_data",
          "data": {
            "image/png": "[encoded data removed]",
            "text/plain": [
              "<Figure size 720x360 with 1 Axes>"
            ]
          },
          "metadata": {
            "tags": [],
            "needs_background": "light"
          }
        },
        {
          "output_type": "stream",
          "text": [
            "alpha = np.linspace(0.0002 * i * n, 0.0002  * n, i), n =  2\n"
          ],
          "name": "stdout"
        },
        {
          "output_type": "display_data",
          "data": {
            "image/png": "[encoded data removed]",
            "text/plain": [
              "<Figure size 720x360 with 1 Axes>"
            ]
          },
          "metadata": {
            "tags": [],
            "needs_background": "light"
          }
        },
        {
          "output_type": "stream",
          "text": [
            "alpha = np.linspace(0.0002 * i * n, 0.0002  * n, i), n =  3\n"
          ],
          "name": "stdout"
        },
        {
          "output_type": "display_data",
          "data": {
            "image/png": "[encoded data removed]",
            "text/plain": [
              "<Figure size 720x360 with 1 Axes>"
            ]
          },
          "metadata": {
            "tags": [],
            "needs_background": "light"
          }
        },
        {
          "output_type": "stream",
          "text": [
            "alpha = np.linspace(0.0002 * i * n, 0.0002  * n, i), n =  4\n"
          ],
          "name": "stdout"
        },
        {
          "output_type": "display_data",
          "data": {
            "image/png": "[encoded data removed]",
            "text/plain": [
              "<Figure size 720x360 with 1 Axes>"
            ]
          },
          "metadata": {
            "tags": [],
            "needs_background": "light"
          }
        }
      ]
    },
    {
      "cell_type": "code",
      "metadata": {
        "id": "6vlA7dlCVxM5",
        "colab_type": "code",
        "outputId": "92331b1a-eb55-4862-f661-1fb99aab9a05",
        "colab": {
          "base_uri": "https://localhost:8080/",
          "height": 54
        }
      },
      "source": [
        "for n, discr0 in enumerate(_discr00):\n",
        "  print('alpha = np.linspace(0.0002 * i * n, 0.0002  * n, i), n = ', n+1)\n",
        "  #make_plt(_vector, discr0[88*n:88*(n+1)-1], '.')\n",
        "  \n"
      ],
      "execution_count": 0,
      "outputs": [
        {
          "output_type": "stream",
          "text": [
            "alpha = np.linspace(0.0002 * i * n, 0.0002  * n, i), n =  1\n",
            "alpha = np.linspace(0.0002 * i * n, 0.0002  * n, i), n =  2\n"
          ],
          "name": "stdout"
        }
      ]
    },
    {
      "cell_type": "markdown",
      "metadata": {
        "id": "AifefP0ZWFDc",
        "colab_type": "text"
      },
      "source": [
        "***Плохообусловленная матрица - регуляризованная система: значение невязки повыше,чем у обычный матрицы с регуляризованной системой***"
      ]
    },
    {
      "cell_type": "markdown",
      "metadata": {
        "id": "uUdqyXgbWFDf",
        "colab_type": "text"
      },
      "source": [
        "# Итог:\n",
        "Если применять регуляризованную систему с обычными матрицами, то значения невязок получаются гораздо выше, чем с плохообусловленными матрицами. Получается, с плохообусловленными матрицами всё в среднем наоборот, значение невязок ниже."
      ]
    }
  ]
}