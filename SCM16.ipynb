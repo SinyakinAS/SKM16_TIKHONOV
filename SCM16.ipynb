{
  "nbformat": 4,
  "nbformat_minor": 0,
  "metadata": {
    "kernelspec": {
      "display_name": "Python 3",
      "language": "python",
      "name": "python3"
    },
    "language_info": {
      "codemirror_mode": {
        "name": "ipython",
        "version": 3
      },
      "file_extension": ".py",
      "mimetype": "text/x-python",
      "name": "python",
      "nbconvert_exporter": "python",
      "pygments_lexer": "ipython3",
      "version": "3.7.6"
    },
    "colab": {
      "name": "SCM16.ipynb",
      "provenance": [],
      "collapsed_sections": []
    }
  },
  "cells": [
    {
      "cell_type": "markdown",
      "metadata": {
        "id": "ReVwqvTuWE7V",
        "colab_type": "text"
      },
      "source": [
        "# 16. Регуляризация А.Н. Тихонова\n",
        "Система $(A^{\\rm T} A + \\alpha E)x = A^{\\rm T} b$ называется *регуляризованной* по отношению к системе\n",
        "$Ax = b$. Параметр $\\alpha$ называется *параметром регуляризации*. \n",
        "*Метод регуляризации* А.Н.Тихонова заключается в выборе\n",
        "последовательности $\\alpha_k \\to 0$ (например, геометрической прогрессии) \n",
        "и решении регуляризованных систем\n",
        "$(A^{\\rm T}A + \\alpha_k E)x = A^{\\rm T} b$  для конечного числа\n",
        "значений $\\alpha_k$, и выборе из всех полученных решений того, при котором\n",
        "норма невязки для исходной системы минимальна.\n",
        "\n",
        "# Написать функцию \n",
        "```\n",
        "    x0, discr0, alpha0, x, discr = tikhonov(A, b, alpha),\n",
        "```\n",
        "в которой `A` и `b` – матрица и левая часть исходной системы,\n",
        "`alpha` – вектор, содержащий набор параметров регуляризации,\n",
        "`x` – матрица, по столбцам которой записаны регуляризованные решения для соответсвующего значения \n",
        "параметра регуляризации, `discr` – вектор полученных таким образом невязок, `x0` – регуляризованное решение\n",
        "(из найденных) с минимальной нормой невязки, `discr0`, `alpha0` – соответствующие ему\n",
        "значения нормы невязки и параметра регуляризации.\n",
        "\n"
      ]
    },
    {
      "cell_type": "markdown",
      "metadata": {
        "id": "ejBJXMmreiY4",
        "colab_type": "text"
      },
      "source": [
        "# Решение\n",
        "Напишем функцию, которая будет принимать:\n",
        "\n",
        "*   A - матрица\n",
        "*   b - левая часть исходной системы\n",
        "*   alpha - вектор, содержащий набор параметров регуляризации \n",
        " \n",
        "и выдавать: \n",
        "\n",
        "\n",
        "*   x – матрица, по столбцам которой записаны регуляризованные решения для соответсвующего значения параметра регуляризации\n",
        "\n",
        "*   discr – вектор полученных таким образом невязок\n",
        "*   discr0, alpha0 – соответствующие ему значения нормы невязки и параметра регуляризации.\n",
        "\n",
        "\n",
        "\n",
        "\n",
        "\n",
        "\n",
        "\n",
        "\n",
        "\n",
        "\n",
        " "
      ]
    },
    {
      "cell_type": "markdown",
      "metadata": {
        "id": "X4u5Pw3dWE74",
        "colab_type": "text"
      },
      "source": [
        "## Начальные данные:\n"
      ]
    },
    {
      "cell_type": "code",
      "metadata": {
        "id": "WzWbWLQpWE8J",
        "colab_type": "code",
        "colab": {}
      },
      "source": [
        "import matplotlib.pyplot as plt\n",
        "import numpy as np\n",
        "from numpy import random\n",
        "from scipy import linalg\n",
        "%matplotlib inline"
      ],
      "execution_count": 0,
      "outputs": []
    },
    {
      "cell_type": "markdown",
      "metadata": {
        "id": "YElYiwbDd3pE",
        "colab_type": "text"
      },
      "source": [
        "# Главная Функция"
      ]
    },
    {
      "cell_type": "code",
      "metadata": {
        "id": "WLVbjSoYWE9V",
        "colab_type": "code",
        "colab": {}
      },
      "source": [
        "def TIKHONOVREGULASATION (A, b, alpha):\n",
        "    x = []\n",
        "    discr = []\n",
        "    AstepenT = np.transpose(A)\n",
        "    for k in range(len(alpha)):\n",
        "        Xx = linalg.solve((AstepenT@A + alpha[k]), (AstepenT @ b))\n",
        "        x.append(Xx)\n",
        "        discr_c = linalg.norm(A@Xx - b)/linalg.norm(b)\n",
        "        discr.append(discr_c)\n",
        "    discr0 = discr[0]\n",
        "    _l = 0\n",
        "    for l in range(len(discr)):\n",
        "        if discr[l] < discr0:\n",
        "            _l = l\n",
        "            discr0 = discr[l]\n",
        "    alpha0 = alpha[_l]\n",
        "    x0 = x[_l]\n",
        "    return (x0, discr0, alpha0, x, discr)\n"
      ],
      "execution_count": 0,
      "outputs": []
    },
    {
      "cell_type": "markdown",
      "metadata": {
        "id": "gbu8p-veWE-0",
        "colab_type": "text"
      },
      "source": [
        "# Приступим к решению задачи регулизации \n",
        " \n",
        " Система $(A^{\\rm T} A + \\alpha E)x = A^{\\rm T} b$  называется регуляризованной по отношению к системе  $Ax = b$ . \n",
        "\n",
        "Начнём --- посмотрим на значения невязок у каждой системы"
      ]
    },
    {
      "cell_type": "code",
      "metadata": {
        "id": "0Y3kFmY-WE-4",
        "colab_type": "code",
        "colab": {}
      },
      "source": [
        "_discr0 = []\n",
        "_vector = np.arange(10, 450, 5)\n",
        "\n",
        "for i in n_vector:\n",
        "    A = np.random.uniform(-100, 100, (i, i))\n",
        "    b = np.random.uniform(-100, 100, i)\n",
        "    x = linalg.solve(A, b)\n",
        "    dr = linalg.norm(A@x - b)/linalg.norm(b)\n",
        "    _discr0.append(dr)"
      ],
      "execution_count": 0,
      "outputs": []
    },
    {
      "cell_type": "code",
      "metadata": {
        "id": "qW1nap1RWE_f",
        "colab_type": "code",
        "colab": {
          "base_uri": "https://localhost:8080/",
          "height": 350
        },
        "outputId": "83b751d8-9ac7-4288-b0f7-46eb4a327c7d"
      },
      "source": [
        "plt.figure(figsize=(10,5))   \n",
        "plt.semilogy(_vector,_discr0,'.r')\n",
        "\n",
        "plt.title('--- Порядок матрицы и Норма невязки - сравнение и зависимость ---')\n",
        "plt.xlabel('Порядок матрицы')\n",
        "plt.ylabel('Норма невязки')\n",
        "\n",
        "pass"
      ],
      "execution_count": 53,
      "outputs": [
        {
          "output_type": "display_data",
          "data": {
            "image/png": "[encoded data removed]",
            "text/plain": [
              "<Figure size 720x360 with 1 Axes>"
            ]
          },
          "metadata": {
            "tags": [],
            "needs_background": "light"
          }
        }
      ]
    },
    {
      "cell_type": "markdown",
      "metadata": {
        "id": "s7JiDK9Wsf-D",
        "colab_type": "text"
      },
      "source": [
        "***Обычная система: значение невязки возрастает при увеличении порядка у матрицы***"
      ]
    },
    {
      "cell_type": "code",
      "metadata": {
        "id": "Ao1gEgulWFAI",
        "colab_type": "code",
        "colab": {}
      },
      "source": [
        "_vector = np.arange(10, 450, 5)\n",
        "_alpha0 = []\n",
        "_discr0 = []\n",
        "for i in _vector:\n",
        "    A = np.random.uniform(-100, 100, (i, i))\n",
        "    b = np.random.uniform(-100, 100, i)\n",
        "    alpha = np.linspace(0.0002 * i, 0.0002, i)\n",
        "    t = tikhonov(A, b, alpha)\n",
        "    _alpha0.append(t[2])\n",
        "    _discr0.append(t[1])"
      ],
      "execution_count": 0,
      "outputs": []
    },
    {
      "cell_type": "code",
      "metadata": {
        "id": "4BPVnZTkWFA6",
        "colab_type": "code",
        "colab": {
          "base_uri": "https://localhost:8080/",
          "height": 350
        },
        "outputId": "873792b7-fff4-4cb0-a095-e71e4ec15ce1"
      },
      "source": [
        "plt.figure(figsize=(10,5))    \n",
        "plt.semilogy(_vector, _discr0,'.r')\n",
        "\n",
        "plt.title('--- Порядок матрицы и Норма невязки - сравнение и зависимость ---')\n",
        "plt.xlabel('Порядок матрицы')\n",
        "plt.ylabel('Норма невязки')\n",
        "\n",
        "pass"
      ],
      "execution_count": 55,
      "outputs": [
        {
          "output_type": "display_data",
          "data": {
            "image/png": "[encoded data removed]",
            "text/plain": [
              "<Figure size 720x360 with 1 Axes>"
            ]
          },
          "metadata": {
            "tags": [],
            "needs_background": "light"
          }
        }
      ]
    },
    {
      "cell_type": "markdown",
      "metadata": {
        "id": "5HUa6rgMWFBY",
        "colab_type": "text"
      },
      "source": [
        "***Регуляризованная: у невязки значения получаются повыше, чем в в обычной системе***\n",
        "\n",
        "\n",
        "\n"
      ]
    },
    {
      "cell_type": "markdown",
      "metadata": {
        "id": "78QNIfIzWFBc",
        "colab_type": "text"
      },
      "source": [
        "# Перейдём к проверке плохообусловленных матриц из задания №8"
      ]
    },
    {
      "cell_type": "markdown",
      "metadata": {
        "id": "-JegLISF2DCE",
        "colab_type": "text"
      },
      "source": [
        "***Функция***"
      ]
    },
    {
      "cell_type": "code",
      "metadata": {
        "id": "Lp_POp1W18Vl",
        "colab_type": "code",
        "colab": {}
      },
      "source": [
        "def MatrixAwful(n):\n",
        "    Q = np.random.uniform(-100, 100, (n, n))\n",
        "    W = np.tril(Q)\n",
        "    Q = np.random.uniform(-100, 100, (n, n))\n",
        "    U = np.triu(Q)\n",
        "    return W@U"
      ],
      "execution_count": 0,
      "outputs": []
    },
    {
      "cell_type": "code",
      "metadata": {
        "scrolled": true,
        "id": "EV8nsLajWFBj",
        "colab_type": "code",
        "colab": {}
      },
      "source": [
        "__vector = np.arange(10, 450, 5)\n",
        "_discr0 = []\n",
        "for i in __vector:\n",
        "    A = badMatrix(i)\n",
        "    b = np.random.uniform(-100, 100, i)\n",
        "    x = linalg.solve(A, b)\n",
        "    dr = linalg.norm(A@x - b)/linalg.norm(b)\n",
        "    _discr0.append(dr)"
      ],
      "execution_count": 0,
      "outputs": []
    },
    {
      "cell_type": "code",
      "metadata": {
        "id": "FyMr4oLlWFB7",
        "colab_type": "code",
        "colab": {
          "base_uri": "https://localhost:8080/",
          "height": 350
        },
        "outputId": "74d95cad-1d0b-4840-c6ff-deeefd3a6692"
      },
      "source": [
        "plt.figure(figsize=(10,5))    \n",
        "plt.semilogy(_vector, _discr0,'.g')\n",
        "\n",
        "plt.title('--- Порядок матрицы и Норма невязки - сравнение и зависимость ---')\n",
        "plt.xlabel('Порядок матрицы')\n",
        "plt.ylabel('Норма невязки')\n",
        "\n",
        "pass"
      ],
      "execution_count": 58,
      "outputs": [
        {
          "output_type": "display_data",
          "data": {
            "image/png": "[encoded data removed]",
            "text/plain": [
              "<Figure size 720x360 with 1 Axes>"
            ]
          },
          "metadata": {
            "tags": [],
            "needs_background": "light"
          }
        }
      ]
    },
    {
      "cell_type": "markdown",
      "metadata": {
        "id": "ARI0n-avWFCf",
        "colab_type": "text"
      },
      "source": [
        "\n",
        "***Плохообусловленная матрица - обычная система: значение невязки повыше, чем у обычной матрицы. ***"
      ]
    },
    {
      "cell_type": "code",
      "metadata": {
        "id": "baVi_v5wWFCk",
        "colab_type": "code",
        "colab": {}
      },
      "source": [
        "_vector = np.arange(10, 450, 5)\n",
        "_alpha0 = []\n",
        "_discr0 = []\n",
        "for i in _vector:\n",
        "    A = MatrixAwful(i)\n",
        "    b = np.random.uniform(-100, 100, i)\n",
        "    alpha = np.linspace(0.0002 * i, 0.0002, i)\n",
        "    t = TIKHONOVREGULASATION(A, b, alpha)\n",
        "    _alpha0.append(t[2])\n",
        "    _discr0.append(t[1])\n",
        "    "
      ],
      "execution_count": 0,
      "outputs": []
    },
    {
      "cell_type": "code",
      "metadata": {
        "id": "ndaKubJIWFDC",
        "colab_type": "code",
        "colab": {
          "base_uri": "https://localhost:8080/",
          "height": 350
        },
        "outputId": "a71b3388-0e42-40dc-efe9-db9e61e9cdd0"
      },
      "source": [
        "plt.figure(figsize=(10,5))    \n",
        "plt.semilogy(_vector, _discr0,'.')\n",
        "\n",
        "plt.title('--- Порядок матрицы и Норма невязки - сравнение и зависимость ---')\n",
        "plt.xlabel('Порядок матрицы')\n",
        "plt.ylabel('Норма невязки')\n",
        "\n",
        "pass"
      ],
      "execution_count": 64,
      "outputs": [
        {
          "output_type": "display_data",
          "data": {
            "image/png": "[encoded data removed]",
            "text/plain": [
              "<Figure size 720x360 with 1 Axes>"
            ]
          },
          "metadata": {
            "tags": [],
            "needs_background": "light"
          }
        }
      ]
    },
    {
      "cell_type": "markdown",
      "metadata": {
        "id": "AifefP0ZWFDc",
        "colab_type": "text"
      },
      "source": [
        "***Плохообусловленная матрица - регуляризованная система: значение невязки повыше,чем у обычный матрицы с регуляризованной системой***"
      ]
    },
    {
      "cell_type": "markdown",
      "metadata": {
        "id": "uUdqyXgbWFDf",
        "colab_type": "text"
      },
      "source": [
        "# Итог:\n",
        "Если применять регуляризованную систему с обычными матрицами, то значения невязок получаются гораздо выше, чем с плохообусловленными матрицами. Получается, с плохообусловленными матрицами всё в среднем наоборот, значение невязок ниже."
      ]
    }
  ]
}